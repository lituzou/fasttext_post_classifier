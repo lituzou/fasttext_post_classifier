{
 "cells": [
  {
   "cell_type": "code",
   "execution_count": 1,
   "source": [
    "import torch\r\n",
    "import config\r\n",
    "import utils\r\n",
    "from model import FastText\r\n",
    "from sklearn import preprocessing\r\n",
    "import numpy as np\r\n",
    "from model import FastText"
   ],
   "outputs": [],
   "metadata": {}
  },
  {
   "cell_type": "code",
   "execution_count": 2,
   "source": [
    "all_label = np.load(\r\n",
    "    'model/post_classifier_v1_label_enc.npy', allow_pickle=True)\r\n",
    "all_vocab = np.load(\r\n",
    "    'model/post_classifier_v1_vocab_enc.npy', allow_pickle=True)\r\n",
    "label_enc = preprocessing.LabelEncoder()\r\n",
    "vocab_enc = preprocessing.OrdinalEncoder(\r\n",
    "    handle_unknown='use_encoded_value', unknown_value=len(all_vocab[0]), dtype=np.int)\r\n",
    "vocab_enc.categories_ = all_vocab\r\n",
    "label_enc.classes_ = all_label"
   ],
   "outputs": [],
   "metadata": {}
  },
  {
   "cell_type": "code",
   "execution_count": 3,
   "source": [
    "padding_enc = int(vocab_enc.transform([[config.PAD]]).item())\r\n",
    "model = FastText(\r\n",
    "    num_classes=len(label_enc.classes_),\r\n",
    "    num_vocab=len(vocab_enc.categories_[0])+1,\r\n",
    "    padding_enc=padding_enc\r\n",
    ")\r\n",
    "model.load_state_dict(torch.load('model/post_classifier_v1.pth', map_location=torch.device('cpu')))\r\n",
    "model.eval()"
   ],
   "outputs": [
    {
     "output_type": "execute_result",
     "data": {
      "text/plain": [
       "FastText(\n",
       "  (embedding1): Embedding(2000, 300, padding_idx=23)\n",
       "  (embedding2): Embedding(250499, 300)\n",
       "  (embedding3): Embedding(250499, 300)\n",
       "  (dropout): Dropout(p=0.2, inplace=False)\n",
       "  (fc1): Linear(in_features=900, out_features=256, bias=True)\n",
       "  (fc2): Linear(in_features=256, out_features=5, bias=True)\n",
       ")"
      ]
     },
     "metadata": {},
     "execution_count": 3
    }
   ],
   "metadata": {}
  },
  {
   "cell_type": "code",
   "execution_count": 7,
   "source": [
    "s = '彩妆选购#粉底选择'\r\n",
    "words, bigrams, trigrams = utils.encode_sentence(s, vocab_enc)\r\n",
    "words = torch.tensor(words.reshape(1, -1))\r\n",
    "bigrams = torch.tensor(bigrams.reshape(1, -1))\r\n",
    "trigrams = torch.tensor(trigrams.reshape(1, -1))"
   ],
   "outputs": [],
   "metadata": {}
  },
  {
   "cell_type": "code",
   "execution_count": 10,
   "source": [
    "result, _ = model(words=words, bigrams=bigrams, trigrams=trigrams)\r\n",
    "result = torch.argmax(result, 1).detach().cpu().numpy()"
   ],
   "outputs": [
    {
     "output_type": "execute_result",
     "data": {
      "text/plain": [
       "array([1], dtype=int64)"
      ]
     },
     "metadata": {},
     "execution_count": 10
    }
   ],
   "metadata": {}
  },
  {
   "cell_type": "code",
   "execution_count": 9,
   "source": [
    "label_enc.inverse_transform(result)"
   ],
   "outputs": [
    {
     "output_type": "execute_result",
     "data": {
      "text/plain": [
       "array(['彩妆'], dtype=object)"
      ]
     },
     "metadata": {},
     "execution_count": 9
    }
   ],
   "metadata": {}
  },
  {
   "cell_type": "code",
   "execution_count": null,
   "source": [],
   "outputs": [],
   "metadata": {}
  }
 ],
 "metadata": {
  "orig_nbformat": 4,
  "language_info": {
   "name": "python",
   "version": "3.9.5",
   "mimetype": "text/x-python",
   "codemirror_mode": {
    "name": "ipython",
    "version": 3
   },
   "pygments_lexer": "ipython3",
   "nbconvert_exporter": "python",
   "file_extension": ".py"
  },
  "kernelspec": {
   "name": "python3",
   "display_name": "Python 3.9.5 64-bit"
  },
  "interpreter": {
   "hash": "e16b9bd33e7041c0842013505aab8d96e59e427e4e0c80436ba1b7c1f34f93b5"
  }
 },
 "nbformat": 4,
 "nbformat_minor": 2
}